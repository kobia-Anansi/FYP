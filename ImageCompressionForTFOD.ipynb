{
 "cells": [
  {
   "cell_type": "markdown",
   "id": "50909e94",
   "metadata": {},
   "source": [
    "Compressing Images"
   ]
  },
  {
   "cell_type": "code",
   "execution_count": 1,
   "id": "711eaf95",
   "metadata": {},
   "outputs": [],
   "source": [
    "import os"
   ]
  },
  {
   "cell_type": "code",
   "execution_count": 2,
   "id": "5e4eb992",
   "metadata": {},
   "outputs": [],
   "source": [
    "TRAIN_PATH = os.path.join('images', 'train')\n",
    "TEST_PATH = os.path.join('images', 'test')\n",
    "ARCHIVE_PATH = os.path.join('images', 'archive.tar.gz')"
   ]
  },
  {
   "cell_type": "code",
   "execution_count": 3,
   "id": "bea0139d",
   "metadata": {},
   "outputs": [],
   "source": [
    "!tar -czf {ARCHIVE_PATH} {TRAIN_PATH} {TEST_PATH}"
   ]
  },
  {
   "cell_type": "code",
   "execution_count": null,
   "id": "1dc0c790",
   "metadata": {},
   "outputs": [],
   "source": []
  }
 ],
 "metadata": {
  "kernelspec": {
   "display_name": "tfod",
   "language": "python",
   "name": "tfod"
  },
  "language_info": {
   "codemirror_mode": {
    "name": "ipython",
    "version": 3
   },
   "file_extension": ".py",
   "mimetype": "text/x-python",
   "name": "python",
   "nbconvert_exporter": "python",
   "pygments_lexer": "ipython3",
   "version": "3.7.3"
  }
 },
 "nbformat": 4,
 "nbformat_minor": 5
}
